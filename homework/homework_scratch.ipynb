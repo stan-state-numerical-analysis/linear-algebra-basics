{
 "cells": [
  {
   "cell_type": "markdown",
   "metadata": {},
   "source": [
    "# Task 1"
   ]
  },
  {
   "cell_type": "code",
   "execution_count": null,
   "metadata": {},
   "outputs": [],
   "source": [
    "# Task: Explore the basic concepts of linear algebra using Python.\n",
    "\n",
    "# 1. Import the numpy library which will be used for matrix and vector operations."
   ]
  },
  {
   "cell_type": "code",
   "execution_count": null,
   "metadata": {},
   "outputs": [],
   "source": [
    "# 2. Use the numpy library to create a vector v = [1, 2, 3] and a matrix A as:\n",
    "# | 1 2 3 |\n",
    "# | 4 5 6 |\n",
    "# | 7 8 9 |"
   ]
  },
  {
   "cell_type": "code",
   "execution_count": null,
   "metadata": {},
   "outputs": [],
   "source": [
    "# 3. Print the text: Vector v: ? where ? is replaced with the vector v."
   ]
  },
  {
   "cell_type": "code",
   "execution_count": null,
   "metadata": {},
   "outputs": [],
   "source": [
    "# 4. Print the text: Matrix A: ? where ? is replaced with the matrix A."
   ]
  },
  {
   "cell_type": "code",
   "execution_count": null,
   "metadata": {},
   "outputs": [],
   "source": [
    "# 5. Initialize the vector v_add to be the sum of v and itself."
   ]
  },
  {
   "cell_type": "code",
   "execution_count": null,
   "metadata": {},
   "outputs": [],
   "source": [
    "# 6. Print the text: Vector addition (v + v): ? where ? is replaced with the vector v_add."
   ]
  },
  {
   "cell_type": "code",
   "execution_count": null,
   "metadata": {},
   "outputs": [],
   "source": [
    "# 7. Initialize the vector v_scalar_mult to be the product of the scalar 2 and the vector v."
   ]
  },
  {
   "cell_type": "code",
   "execution_count": null,
   "metadata": {},
   "outputs": [],
   "source": [
    "# 8. Print the text: Scalar Multiplication (2 * v): ? where ? is replaced with the vector v_scalar_mult."
   ]
  },
  {
   "cell_type": "code",
   "execution_count": null,
   "metadata": {},
   "outputs": [],
   "source": [
    "# 9. Initialize the matrix A_add to be the sum of A and itself."
   ]
  },
  {
   "cell_type": "code",
   "execution_count": null,
   "metadata": {},
   "outputs": [],
   "source": [
    "# 10. Print the text: Matrix addition (A + A): ? where ? is replaced with the matrix A_add."
   ]
  },
  {
   "cell_type": "code",
   "execution_count": null,
   "metadata": {},
   "outputs": [],
   "source": [
    "# 11. Initialize the vector Av_mult to be the product of the matrix A and the vector v."
   ]
  },
  {
   "cell_type": "code",
   "execution_count": null,
   "metadata": {},
   "outputs": [],
   "source": [
    "# 12. Print the text: Matrix-vector multiplication (A * v): ? where ? is replaced with the vector Av_mult."
   ]
  },
  {
   "cell_type": "code",
   "execution_count": null,
   "metadata": {},
   "outputs": [],
   "source": [
    "# 13. Initialize the matrix I to be the 3x3 identity matrix."
   ]
  },
  {
   "cell_type": "code",
   "execution_count": null,
   "metadata": {},
   "outputs": [],
   "source": [
    "# 14. Initialize the matrix A_mult to be the product of the matrix A and the matrix I."
   ]
  },
  {
   "cell_type": "code",
   "execution_count": null,
   "metadata": {},
   "outputs": [],
   "source": [
    "# 15. Print the text: Matrix-matrix multiplication (A * I): ? where ? is replaced with the matrix A_mult."
   ]
  },
  {
   "cell_type": "code",
   "execution_count": null,
   "metadata": {},
   "outputs": [],
   "source": [
    "# 16. Initialize the matrix A_transpose to be the transpose of the matrix A."
   ]
  },
  {
   "cell_type": "code",
   "execution_count": null,
   "metadata": {},
   "outputs": [],
   "source": [
    "# 17. Print the text: Transpose of matrix A: ? where ? is replaced with the matrix A_transpose."
   ]
  },
  {
   "cell_type": "code",
   "execution_count": null,
   "metadata": {},
   "outputs": [],
   "source": [
    "# 18. Initialize the value v_norm to be the Euclidean norm of the vector v."
   ]
  },
  {
   "cell_type": "code",
   "execution_count": null,
   "metadata": {},
   "outputs": [],
   "source": [
    "# 19. Print the text: Euclidean norm of vector v: ? where ? is replaced with the value v_norm."
   ]
  },
  {
   "cell_type": "markdown",
   "metadata": {},
   "source": [
    "# Task 2"
   ]
  },
  {
   "cell_type": "code",
   "execution_count": null,
   "metadata": {},
   "outputs": [],
   "source": [
    "# Task: Implement Gauss-Jordan elimination in Python to solve a system of linear equations.\n",
    "\n",
    "\n",
    "# 1. Import the numpy library for matrix and vector operations."
   ]
  },
  {
   "cell_type": "code",
   "execution_count": null,
   "metadata": {},
   "outputs": [],
   "source": [
    "# 2. Create a function divide_row that divides row i of matrix A by a divisor.\n",
    "#    - Parameters:\n",
    "#      - A: The matrix where the row will be divided.\n",
    "#      - i: The index of the row to be divided.\n",
    "#      - divisor: The value by which the row will be divided.\n",
    "# Note: This function will not return anything, it should update A in-place."
   ]
  },
  {
   "cell_type": "code",
   "execution_count": null,
   "metadata": {},
   "outputs": [],
   "source": [
    "# 3. Create a function subtract_rows that subtracts multiplier times row j from row i.\n",
    "#    - Parameters:\n",
    "#      - A: The matrix where the operation will occur.\n",
    "#      - i: The index of the row to be modified.\n",
    "#      - j: The index of the row to subtract.\n",
    "#      - multiplier: The value to multiply row j by before subtracting it from row i.\n",
    "# Note: This function will not return anything, it should update A in-place."
   ]
  },
  {
   "cell_type": "code",
   "execution_count": null,
   "metadata": {},
   "outputs": [],
   "source": [
    "# 4. Create the main function gauss_jordan_elimination that uses the functions above to solve Ax = b.\n",
    "#    - Parameters:\n",
    "#      - A: The coefficient matrix of the system of equations.\n",
    "#      - b: The constant vector.\n",
    "\n",
    "\n",
    "\n",
    "    # 5. Initialize the variable Ab to be the augmented matrix of A with vector b.\n",
    "    # Hint: Use the hstack method from numpy.\n",
    "\n",
    "\n",
    "\n",
    "    # 6. Redefine Ab to have a float data type to avoid integer division.\n",
    "\n",
    "\n",
    "\n",
    "    # 7. Iterate through each column of the matrix A.\n",
    "\n",
    "\n",
    "\n",
    "        # 8. Use the appropriate row operation function from above to make this column's\n",
    "        # corresponding diagonal entry 1.\n",
    "\n",
    "\n",
    "\n",
    "        # 9. Iterate through each row of the column.\n",
    "\n",
    "\n",
    "\n",
    "            # 10. Use the appropriate row operation to make the entry\n",
    "            # in this row and column equal to 0 (skip the diagonal entry).\n",
    "\n",
    "\n",
    "\n",
    "    # 11. Return the last column which is the solution vector."
   ]
  },
  {
   "cell_type": "markdown",
   "metadata": {},
   "source": [
    "# Task 3"
   ]
  },
  {
   "cell_type": "code",
   "execution_count": null,
   "metadata": {},
   "outputs": [],
   "source": [
    "# Task: Implement the LU Decomposition Method for Solving a System of Equations\n",
    "\n",
    "# 1. Import the numpy library, which will be used for matrix operations."
   ]
  },
  {
   "cell_type": "code",
   "execution_count": null,
   "metadata": {},
   "outputs": [],
   "source": [
    "# 2. Define a function lu_decomposition that returns two matrices L (lower triangular) and\n",
    "# U (upper triangular) so that A = LU.\n",
    "#    - Parameters:\n",
    "#      - A: The square matrix whose LU decomposition is to be computed.\n",
    "\n",
    "\n",
    "\n",
    "    # 3. Initialize a variable n to be the number of rows of A.\n",
    "\n",
    "\n",
    "\n",
    "    # 4. Initialize the L and U matrices as all zeroes with the correct\n",
    "    # dimensions and float data type.\n",
    "\n",
    "\n",
    "\n",
    "    # 5. Iterate over each row of A.\n",
    "\n",
    "\n",
    "\n",
    "        # 6. Iterate over each column in the row from the diagonal entry onwards.\n",
    "\n",
    "\n",
    "\n",
    "            # 7. Assign the entry i, j of the upper triangular matrix U\n",
    "            # with the corresponding value.\n",
    "\n",
    "\n",
    "\n",
    "        # 8. Iterate over each column in the row from the diagonal entry onwards.\n",
    "\n",
    "\n",
    "\n",
    "            # 9. Assign the entry i, j of the lower triangular matrix L\n",
    "            # with the corresponding value.\n",
    "\n",
    "            \n",
    "\n",
    "    # 10. Return the matrices L and U."
   ]
  },
  {
   "cell_type": "code",
   "execution_count": null,
   "metadata": {},
   "outputs": [],
   "source": [
    "# 11. Define a function forward_substitution that solves the system Ly = b for y using forward substitution.\n",
    "#    - Parameters:\n",
    "#      - L: The lower triangular matrix.\n",
    "#      - b: The right-hand side vector of the equation Ly = b.\n",
    "\n",
    "\n",
    "\n",
    "    # 12. Initialize the vector y as all zeroes with the correct length\n",
    "    # and float data type.\n",
    "\n",
    "\n",
    "\n",
    "    # 13. Iterate through each row of L.\n",
    "\n",
    "\n",
    "\n",
    "        # 14. Update the entry of y using the forward substitution formula.\n",
    "\n",
    "\n",
    "\n",
    "    # 15. Return the solution vector y."
   ]
  },
  {
   "cell_type": "code",
   "execution_count": null,
   "metadata": {},
   "outputs": [],
   "source": [
    "# 16. Define a function backward_substitution that solves the system Ux = y for x using backward substitution.\n",
    "#    - Parameters:\n",
    "#      - U: The upper triangular matrix.\n",
    "#      - y: The right-hand side vector of the equation Ux = y.\n",
    "\n",
    "\n",
    "\n",
    "    # 17. Initialize the vector x as all zeroes with the correct length\n",
    "    # and float data type.\n",
    "\n",
    "\n",
    "\n",
    "    # 18. Iterate through each row of U.\n",
    "\n",
    "\n",
    "\n",
    "        # 19. Update the entry of x using the backward substitution formula.\n",
    "        # Be sure to start from the bottom up.\n",
    "\n",
    "\n",
    "\n",
    "    # 20. Return the solution vector x."
   ]
  },
  {
   "cell_type": "code",
   "execution_count": null,
   "metadata": {},
   "outputs": [],
   "source": [
    "# 21. Define a main function solve_lu that combines LU decomposition, forward substitution,\n",
    "# and backward substitution to solve the system Ax = b.\n",
    "#    - Parameters:\n",
    "#      - A: The square matrix of coefficients of the equation Ax = b.\n",
    "#      - b: The right-hand side vector of the equation Ax = b.\n",
    "\n",
    "\n",
    "\n",
    "    # 22. Find the LU-decomposition of A.\n",
    "    # Call the outputs L and U.\n",
    "\n",
    "\n",
    "\n",
    "    # 23. Apply forward subsitution with the correct matrix and vector.\n",
    "    # Call the output y.\n",
    "\n",
    "\n",
    "\n",
    "    # 24. Apply backward substitution with the correct matrix and vector.\n",
    "    # Call the output x.\n",
    "\n",
    "\n",
    "\n",
    "    # 25. Return the solution vector x."
   ]
  }
 ],
 "metadata": {
  "language_info": {
   "name": "python"
  }
 },
 "nbformat": 4,
 "nbformat_minor": 2
}
